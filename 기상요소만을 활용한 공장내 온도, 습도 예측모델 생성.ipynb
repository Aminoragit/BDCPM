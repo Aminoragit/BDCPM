{
 "cells": [
  {
   "cell_type": "markdown",
   "metadata": {},
   "source": [
    "### 준비할 데이터셋 ###\n",
    "  \n",
    "1) plant1_train 공장 데이터(훈련시에만 사용 <- tem_in_loc1,2,3 / hum_in_loc1,2,3)  \n",
    "2) 기상 데이터( 서산 ASOS 데이터셋 <- 날씨마루에서 다운받을수 있음)\n",
    "\n",
    "https://bd.kma.go.kr/kma2019/svc/intro/serviceInfo2.do?pageNum=5&menuCd=F030103000"
   ]
  },
  {
   "cell_type": "code",
   "execution_count": 1,
   "metadata": {},
   "outputs": [
    {
     "name": "stderr",
     "output_type": "stream",
     "text": [
      "Using TensorFlow backend.\n"
     ]
    }
   ],
   "source": [
    "import pandas as pd\n",
    "from numpy import mean\n",
    "from scipy import stats #scipy란 과학기술 통계분석함수 모음이다.\n",
    "import numpy as np\n",
    "import warnings\n",
    "warnings.filterwarnings('ignore')\n",
    "%matplotlib inline\n",
    "import matplotlib.pyplot as plt\n",
    "plt.rcParams['font.family'] = 'NanumGothicCoding'\n",
    "plt.rcParams['axes.unicode_minus'] = False\n",
    "import mglearn \n",
    "import missingno as msno\n",
    "from datetime import datetime, timedelta\n",
    "\n",
    "from sklearn.model_selection import train_test_split\n",
    "from sklearn.linear_model import LogisticRegression\n",
    "from sklearn.svm import LinearSVC\n",
    "from sklearn.svm import SVC\n",
    "import seaborn as sns\n",
    "from sklearn.preprocessing import LabelEncoder\n",
    "from sklearn.metrics import classification_report, confusion_matrix\n",
    "from sklearn.model_selection import train_test_split\n",
    "from keras.utils import to_categorical\n",
    "from keras.models import Sequential,load_model\n",
    "from keras.layers import Dense,Activation,LSTM,Dropout\n",
    "from keras.optimizers import Adam\n",
    "from IPython .display import SVG\n",
    "from keras.utils.vis_utils import model_to_dot\n",
    "from keras.utils import np_utils\n",
    "from numpy import argmax"
   ]
  },
  {
   "cell_type": "code",
   "execution_count": 84,
   "metadata": {},
   "outputs": [],
   "source": [
    "#plant1_train_with_weather는 서산 ASOS의 데이터셋과 plant1의 데이터셋을 '일시'에 맞춰서 동일한 '일시'일 경우 merge한 결과이다.\n",
    "datanew=pd.read_csv('C:/Anaconda3/python/csvdata/hyundae/plant1_train_with_weather.csv')"
   ]
  },
  {
   "cell_type": "code",
   "execution_count": 85,
   "metadata": {},
   "outputs": [],
   "source": [
    "del datanew['Unnamed: 0']"
   ]
  },
  {
   "cell_type": "code",
   "execution_count": 86,
   "metadata": {},
   "outputs": [
    {
     "name": "stdout",
     "output_type": "stream",
     "text": [
      "<class 'pandas.core.frame.DataFrame'>\n",
      "RangeIndex: 54803 entries, 0 to 54802\n",
      "Data columns (total 24 columns):\n",
      " #   Column         Non-Null Count  Dtype  \n",
      "---  ------         --------------  -----  \n",
      " 0   일시             54803 non-null  object \n",
      " 1   tem_in_loc1    54803 non-null  float64\n",
      " 2   hum_in_loc1    54803 non-null  float64\n",
      " 3   tem_coil_loc1  54803 non-null  float64\n",
      " 4   tem_in_loc2    54803 non-null  float64\n",
      " 5   hum_in_loc2    54803 non-null  float64\n",
      " 6   tem_coil_loc2  54803 non-null  float64\n",
      " 7   tem_in_loc3    54803 non-null  float64\n",
      " 8   hum_in_loc3    54803 non-null  float64\n",
      " 9   tem_coil_loc3  54803 non-null  float64\n",
      " 10  tem_out_loc1   54803 non-null  float64\n",
      " 11  hum_out_loc1   54803 non-null  float64\n",
      " 12  cond_loc1      54803 non-null  float64\n",
      " 13  cond_loc2      54803 non-null  float64\n",
      " 14  cond_loc3      54803 non-null  float64\n",
      " 15  기온(°C)         54803 non-null  float64\n",
      " 16  누적강수량(mm)      54803 non-null  float64\n",
      " 17  풍향(deg)        54803 non-null  float64\n",
      " 18  풍속(m/s)        54803 non-null  float64\n",
      " 19  현지기압(hPa)      54803 non-null  float64\n",
      " 20  해면기압(hPa)      54803 non-null  float64\n",
      " 21  습도(%)          54803 non-null  float64\n",
      " 22  일사(MJ/m^2)     54803 non-null  float64\n",
      " 23  일조(Sec)        54803 non-null  float64\n",
      "dtypes: float64(23), object(1)\n",
      "memory usage: 10.0+ MB\n"
     ]
    }
   ],
   "source": [
    "datanew.info()"
   ]
  },
  {
   "cell_type": "code",
   "execution_count": 87,
   "metadata": {},
   "outputs": [],
   "source": [
    "datanew['일시'] = pd.to_datetime(datanew['일시'], format='%Y-%m-%d %H:%M:%S', errors='raise')"
   ]
  },
  {
   "cell_type": "code",
   "execution_count": null,
   "metadata": {},
   "outputs": [],
   "source": [
    "#우린 기상데이터 : 기온(°C),누적강수량(mm),습도(%),일사(MJ/m^2),일조(Sec) 총 5개를 사용해서\n",
    "#plant1의 loc1(보관장소1)의 습도를 예측하는 모델을 생성 할것이다.\n",
    "\n",
    "datanew=datanew[['기온(°C)','누적강수량(mm)','습도(%)','일사(MJ/m^2)','일조(Sec)','hum_in_loc1']]\n",
    "datanew"
   ]
  },
  {
   "cell_type": "code",
   "execution_count": 108,
   "metadata": {},
   "outputs": [
    {
     "ename": "NameError",
     "evalue": "name 'datanewori' is not defined",
     "output_type": "error",
     "traceback": [
      "\u001b[1;31m---------------------------------------------------------------------------\u001b[0m",
      "\u001b[1;31mNameError\u001b[0m                                 Traceback (most recent call last)",
      "\u001b[1;32m<ipython-input-108-af558f78342c>\u001b[0m in \u001b[0;36m<module>\u001b[1;34m\u001b[0m\n\u001b[1;32m----> 1\u001b[1;33m \u001b[0mplt\u001b[0m\u001b[1;33m.\u001b[0m\u001b[0mboxplot\u001b[0m\u001b[1;33m(\u001b[0m\u001b[0mdatanewori\u001b[0m\u001b[1;33m[\u001b[0m\u001b[1;34m'기온(°C)'\u001b[0m\u001b[1;33m]\u001b[0m\u001b[1;33m)\u001b[0m\u001b[1;33m\u001b[0m\u001b[1;33m\u001b[0m\u001b[0m\n\u001b[0m",
      "\u001b[1;31mNameError\u001b[0m: name 'datanewori' is not defined"
     ]
    }
   ],
   "source": []
  },
  {
   "cell_type": "code",
   "execution_count": 89,
   "metadata": {},
   "outputs": [],
   "source": [
    "#이미 전처리는 완료했지만 설마모르니 결측치 제거\n",
    "datanew=datanew.dropna(axis=0)"
   ]
  },
  {
   "cell_type": "code",
   "execution_count": 90,
   "metadata": {},
   "outputs": [],
   "source": [
    "#dataframe의 모든 데이터들을 각 컬럼마다 정규화하는 함수\n",
    "def MinMaxScaler(data):\n",
    "    numerator = data - np.min(data, 0)\n",
    "    denominator = np.max(data, 0) - np.min(data, 0)\n",
    "    # noise term prevents the zero division\n",
    "    return numerator / (denominator + 1e-7)\n",
    "\n",
    "#https://blog.naver.com/PostView.nhn?blogId=gudrb1707&logNo=221275862122 참조함"
   ]
  },
  {
   "cell_type": "code",
   "execution_count": 91,
   "metadata": {},
   "outputs": [],
   "source": [
    "datanew=MinMaxScaler(datanew)"
   ]
  },
  {
   "cell_type": "code",
   "execution_count": 92,
   "metadata": {},
   "outputs": [
    {
     "name": "stderr",
     "output_type": "stream",
     "text": [
      "IOPub data rate exceeded.\n",
      "The notebook server will temporarily stop sending output\n",
      "to the client in order to avoid crashing it.\n",
      "To change this limit, set the config variable\n",
      "`--NotebookApp.iopub_data_rate_limit`.\n",
      "\n",
      "Current values:\n",
      "NotebookApp.iopub_data_rate_limit=1000000.0 (bytes/sec)\n",
      "NotebookApp.rate_limit_window=3.0 (secs)\n",
      "\n"
     ]
    }
   ],
   "source": [
    "result=[]\n",
    "for i in range(datanew.shape[0]):\n",
    "    result.append(datanew.iloc[i,:].values) #행 데이터들을 묶음으로 리스트에 저장해줌\n",
    "print(result)"
   ]
  },
  {
   "cell_type": "code",
   "execution_count": 93,
   "metadata": {},
   "outputs": [],
   "source": [
    "result=np.array(result)"
   ]
  },
  {
   "cell_type": "code",
   "execution_count": 94,
   "metadata": {},
   "outputs": [
    {
     "data": {
      "text/plain": [
       "array([[0.621881  , 0.        , 0.97472527, 0.        , 0.        ,\n",
       "        0.66931964],\n",
       "       [0.71401151, 0.        , 0.97472527, 0.        , 0.        ,\n",
       "        0.66379974],\n",
       "       [0.71785029, 0.        , 0.97472527, 0.        , 0.        ,\n",
       "        0.61489088],\n",
       "       ...,\n",
       "       [0.34740883, 0.        , 0.55274725, 0.49810141, 0.68156425,\n",
       "        0.32451861],\n",
       "       [0.33205374, 0.        , 0.56373626, 0.49810141, 0.68156425,\n",
       "        0.33504493],\n",
       "       [0.3243762 , 0.        , 0.58901099, 0.49810141, 0.68156425,\n",
       "        0.34454429]])"
      ]
     },
     "execution_count": 94,
     "metadata": {},
     "output_type": "execute_result"
    }
   ],
   "source": [
    "result"
   ]
  },
  {
   "cell_type": "code",
   "execution_count": 95,
   "metadata": {},
   "outputs": [
    {
     "data": {
      "text/plain": [
       "49323"
      ]
     },
     "execution_count": 95,
     "metadata": {},
     "output_type": "execute_result"
    }
   ],
   "source": [
    "#데이터 나누기\n",
    "row = int(round(result.shape[0]*0.9))\n",
    "result.shape\n",
    "#7가지 특성 : 기상온도,기상습도,tem_in_loc1,hum_in_loc1,tem_coil_loc1,tem_out_loc1,hum_out_loc1\n",
    "row #테스트용 데이터 갯수"
   ]
  },
  {
   "cell_type": "code",
   "execution_count": 96,
   "metadata": {},
   "outputs": [],
   "source": [
    "#랜덤결과 일정하게 하기 위해서 seed 설정\n",
    "np.random.seed(0)"
   ]
  },
  {
   "cell_type": "code",
   "execution_count": null,
   "metadata": {},
   "outputs": [],
   "source": []
  },
  {
   "cell_type": "code",
   "execution_count": null,
   "metadata": {},
   "outputs": [],
   "source": []
  },
  {
   "cell_type": "code",
   "execution_count": 97,
   "metadata": {},
   "outputs": [],
   "source": [
    "#랜덤결과 일정하게 하기 위해서 seed 설정\n",
    "np.random.seed(0)\n"
   ]
  },
  {
   "cell_type": "code",
   "execution_count": 98,
   "metadata": {},
   "outputs": [],
   "source": [
    "np.random.shuffle(train)\n",
    "#훈련용 데이터셋 설정"
   ]
  },
  {
   "cell_type": "code",
   "execution_count": 99,
   "metadata": {},
   "outputs": [],
   "source": [
    "# 훈련용 데이터/라벨 데이터셋 분류\n",
    "x_train = train[:,:-1]\n",
    "x_train = np.reshape(x_train, (x_train.shape[0], x_train.shape[1], 1))\n",
    "y_train = train[:, -1]"
   ]
  },
  {
   "cell_type": "code",
   "execution_count": null,
   "metadata": {},
   "outputs": [],
   "source": []
  },
  {
   "cell_type": "code",
   "execution_count": 100,
   "metadata": {},
   "outputs": [],
   "source": [
    "# 테스트용 데이터/라벨 데이터셋 분류\n",
    "x_test = result[row:, :-1]\n",
    "x_test = np.reshape(x_test, (x_test.shape[0], x_test.shape[1],1))\n",
    "y_test = result[row:, -1]"
   ]
  },
  {
   "cell_type": "code",
   "execution_count": 101,
   "metadata": {},
   "outputs": [
    {
     "data": {
      "text/plain": [
       "((43842, 5, 1), (5480, 5, 1), (43842,), (5480,))"
      ]
     },
     "execution_count": 101,
     "metadata": {},
     "output_type": "execute_result"
    }
   ],
   "source": [
    "x_train.shape,x_test.shape,y_train.shape,y_test.shape"
   ]
  },
  {
   "cell_type": "code",
   "execution_count": null,
   "metadata": {},
   "outputs": [],
   "source": []
  },
  {
   "cell_type": "code",
   "execution_count": 102,
   "metadata": {},
   "outputs": [
    {
     "name": "stdout",
     "output_type": "stream",
     "text": [
      "WARNING:tensorflow:Large dropout rate: 0.7 (>0.5). In TensorFlow 2.x, dropout() uses dropout rate instead of keep_prob. Please ensure that this is intended.\n",
      "Model: \"sequential_5\"\n",
      "_________________________________________________________________\n",
      "Layer (type)                 Output Shape              Param #   \n",
      "=================================================================\n",
      "lstm_9 (LSTM)                (None, 5, 64)             16896     \n",
      "_________________________________________________________________\n",
      "lstm_10 (LSTM)               (None, 64)                33024     \n",
      "_________________________________________________________________\n",
      "dropout_5 (Dropout)          (None, 64)                0         \n",
      "_________________________________________________________________\n",
      "dense_5 (Dense)              (None, 1)                 65        \n",
      "=================================================================\n",
      "Total params: 49,985\n",
      "Trainable params: 49,985\n",
      "Non-trainable params: 0\n",
      "_________________________________________________________________\n"
     ]
    }
   ],
   "source": [
    "#딥러닝을 위한 모델 생성(이때는 습도를 측정하는 것이므로 LSTM을 사용한다.)\n",
    "# step 3. 모델생성\n",
    "model = Sequential()\n",
    "model.add(LSTM(64, input_shape=(5,1), return_sequences=True))\n",
    "model.add(LSTM(64, return_sequences=False))\n",
    "model.add(Dropout(0.7))\n",
    "model.add(Dense(1, activation='tanh'))\n",
    "model.compile('adam', 'mean_squared_error',metrics=['accuracy'])\n",
    "model.summary()"
   ]
  },
  {
   "cell_type": "code",
   "execution_count": 104,
   "metadata": {},
   "outputs": [
    {
     "name": "stdout",
     "output_type": "stream",
     "text": [
      "Train on 43842 samples, validate on 5480 samples\n",
      "Epoch 1/50\n",
      "43842/43842 [==============================] - 2s 53us/step - loss: 0.0289 - accuracy: 4.5618e-05 - val_loss: 0.0151 - val_accuracy: 0.0000e+00\n",
      "Epoch 2/50\n",
      "43842/43842 [==============================] - 2s 50us/step - loss: 0.0227 - accuracy: 4.5618e-05 - val_loss: 0.0140 - val_accuracy: 0.0000e+00\n",
      "Epoch 3/50\n",
      "43842/43842 [==============================] - 2s 50us/step - loss: 0.0182 - accuracy: 2.2809e-05 - val_loss: 0.0088 - val_accuracy: 0.0000e+00\n",
      "Epoch 4/50\n",
      "43842/43842 [==============================] - 2s 50us/step - loss: 0.0134 - accuracy: 4.5618e-05 - val_loss: 0.0073 - val_accuracy: 0.0000e+00\n",
      "Epoch 5/50\n",
      "43842/43842 [==============================] - 2s 50us/step - loss: 0.0130 - accuracy: 4.5618e-05 - val_loss: 0.0074 - val_accuracy: 0.0000e+00\n",
      "Epoch 6/50\n",
      "43842/43842 [==============================] - 2s 50us/step - loss: 0.0127 - accuracy: 4.5618e-05 - val_loss: 0.0073 - val_accuracy: 0.0000e+00\n",
      "Epoch 7/50\n",
      "43842/43842 [==============================] - 2s 49us/step - loss: 0.0123 - accuracy: 2.2809e-05 - val_loss: 0.0072 - val_accuracy: 0.0000e+00\n",
      "Epoch 8/50\n",
      "43842/43842 [==============================] - 2s 49us/step - loss: 0.0121 - accuracy: 4.5618e-05 - val_loss: 0.0070 - val_accuracy: 0.0000e+00\n",
      "Epoch 9/50\n",
      "43842/43842 [==============================] - 2s 50us/step - loss: 0.0119 - accuracy: 4.5618e-05 - val_loss: 0.0061 - val_accuracy: 0.0000e+00\n",
      "Epoch 10/50\n",
      "43842/43842 [==============================] - 2s 50us/step - loss: 0.0115 - accuracy: 4.5618e-05 - val_loss: 0.0061 - val_accuracy: 0.0000e+00\n",
      "Epoch 11/50\n",
      "43842/43842 [==============================] - 2s 50us/step - loss: 0.0114 - accuracy: 4.5618e-05 - val_loss: 0.0065 - val_accuracy: 0.0000e+00\n",
      "Epoch 12/50\n",
      "43842/43842 [==============================] - 2s 50us/step - loss: 0.0111 - accuracy: 4.5618e-05 - val_loss: 0.0071 - val_accuracy: 0.0000e+00\n",
      "Epoch 13/50\n",
      "43842/43842 [==============================] - ETA: 0s - loss: 0.0109 - accuracy: 4.6503e- - 2s 50us/step - loss: 0.0109 - accuracy: 4.5618e-05 - val_loss: 0.0076 - val_accuracy: 0.0000e+00\n",
      "Epoch 14/50\n",
      "43842/43842 [==============================] - 2s 50us/step - loss: 0.0107 - accuracy: 4.5618e-05 - val_loss: 0.0067 - val_accuracy: 0.0000e+00\n",
      "Epoch 15/50\n",
      "43842/43842 [==============================] - 2s 49us/step - loss: 0.0104 - accuracy: 4.5618e-05 - val_loss: 0.0075 - val_accuracy: 0.0000e+00\n",
      "Epoch 16/50\n",
      "43842/43842 [==============================] - 2s 49us/step - loss: 0.0102 - accuracy: 4.5618e-05 - val_loss: 0.0074 - val_accuracy: 0.0000e+00\n",
      "Epoch 17/50\n",
      "43842/43842 [==============================] - 2s 50us/step - loss: 0.0101 - accuracy: 4.5618e-05 - val_loss: 0.0076 - val_accuracy: 0.0000e+00\n",
      "Epoch 18/50\n",
      "43842/43842 [==============================] - 2s 49us/step - loss: 0.0099 - accuracy: 4.5618e-05 - val_loss: 0.0069 - val_accuracy: 0.0000e+00\n",
      "Epoch 19/50\n",
      "43842/43842 [==============================] - 2s 50us/step - loss: 0.0097 - accuracy: 4.5618e-05 - val_loss: 0.0075 - val_accuracy: 0.0000e+00\n",
      "Epoch 20/50\n",
      "43842/43842 [==============================] - 2s 50us/step - loss: 0.0095 - accuracy: 4.5618e-05 - val_loss: 0.0070 - val_accuracy: 0.0000e+00\n",
      "Epoch 21/50\n",
      "43842/43842 [==============================] - 2s 50us/step - loss: 0.0095 - accuracy: 4.5618e-05 - val_loss: 0.0068 - val_accuracy: 0.0000e+00\n",
      "Epoch 22/50\n",
      "43842/43842 [==============================] - 2s 50us/step - loss: 0.0092 - accuracy: 4.5618e-05 - val_loss: 0.0069 - val_accuracy: 0.0000e+00\n",
      "Epoch 23/50\n",
      "43842/43842 [==============================] - 2s 49us/step - loss: 0.0091 - accuracy: 4.5618e-05 - val_loss: 0.0068 - val_accuracy: 0.0000e+00\n",
      "Epoch 24/50\n",
      "43842/43842 [==============================] - 2s 50us/step - loss: 0.0090 - accuracy: 4.5618e-05 - val_loss: 0.0075 - val_accuracy: 0.0000e+00\n",
      "Epoch 25/50\n",
      "43842/43842 [==============================] - 2s 50us/step - loss: 0.0089 - accuracy: 4.5618e-05 - val_loss: 0.0065 - val_accuracy: 0.0000e+00\n",
      "Epoch 26/50\n",
      "43842/43842 [==============================] - 2s 49us/step - loss: 0.0088 - accuracy: 4.5618e-05 - val_loss: 0.0075 - val_accuracy: 0.0000e+00\n",
      "Epoch 27/50\n",
      "43842/43842 [==============================] - 2s 50us/step - loss: 0.0088 - accuracy: 4.5618e-05 - val_loss: 0.0070 - val_accuracy: 0.0000e+00\n",
      "Epoch 28/50\n",
      "43842/43842 [==============================] - 2s 50us/step - loss: 0.0087 - accuracy: 4.5618e-05 - val_loss: 0.0072 - val_accuracy: 0.0000e+00\n",
      "Epoch 29/50\n",
      "43842/43842 [==============================] - 2s 49us/step - loss: 0.0086 - accuracy: 4.5618e-05 - val_loss: 0.0070 - val_accuracy: 0.0000e+00\n",
      "Epoch 30/50\n",
      "43842/43842 [==============================] - 2s 49us/step - loss: 0.0086 - accuracy: 4.5618e-05 - val_loss: 0.0071 - val_accuracy: 0.0000e+00\n",
      "Epoch 31/50\n",
      "43842/43842 [==============================] - 2s 49us/step - loss: 0.0085 - accuracy: 4.5618e-05 - val_loss: 0.0069 - val_accuracy: 0.0000e+00\n",
      "Epoch 32/50\n",
      "43842/43842 [==============================] - 2s 50us/step - loss: 0.0085 - accuracy: 4.5618e-05 - val_loss: 0.0077 - val_accuracy: 0.0000e+00\n",
      "Epoch 33/50\n",
      "43842/43842 [==============================] - 2s 50us/step - loss: 0.0085 - accuracy: 4.5618e-05 - val_loss: 0.0070 - val_accuracy: 0.0000e+00\n",
      "Epoch 34/50\n",
      "43842/43842 [==============================] - 2s 50us/step - loss: 0.0085 - accuracy: 4.5618e-05 - val_loss: 0.0068 - val_accuracy: 0.0000e+00\n",
      "Epoch 35/50\n",
      "43842/43842 [==============================] - 2s 50us/step - loss: 0.0084 - accuracy: 4.5618e-05 - val_loss: 0.0072 - val_accuracy: 0.0000e+00\n",
      "Epoch 36/50\n",
      "43842/43842 [==============================] - 2s 50us/step - loss: 0.0084 - accuracy: 4.5618e-05 - val_loss: 0.0074 - val_accuracy: 0.0000e+00\n",
      "Epoch 37/50\n",
      "43842/43842 [==============================] - 2s 50us/step - loss: 0.0083 - accuracy: 4.5618e-05 - val_loss: 0.0067 - val_accuracy: 0.0000e+00\n",
      "Epoch 38/50\n",
      "43842/43842 [==============================] - 2s 49us/step - loss: 0.0084 - accuracy: 4.5618e-05 - val_loss: 0.0068 - val_accuracy: 0.0000e+00\n",
      "Epoch 39/50\n",
      "43842/43842 [==============================] - 2s 50us/step - loss: 0.0083 - accuracy: 4.5618e-05 - val_loss: 0.0068 - val_accuracy: 0.0000e+00\n",
      "Epoch 40/50\n",
      "43842/43842 [==============================] - 2s 50us/step - loss: 0.0083 - accuracy: 4.5618e-05 - val_loss: 0.0066 - val_accuracy: 0.0000e+00\n",
      "Epoch 41/50\n",
      "43842/43842 [==============================] - 2s 50us/step - loss: 0.0083 - accuracy: 4.5618e-05 - val_loss: 0.0071 - val_accuracy: 0.0000e+00\n",
      "Epoch 42/50\n",
      "43842/43842 [==============================] - 2s 50us/step - loss: 0.0083 - accuracy: 4.5618e-05 - val_loss: 0.0067 - val_accuracy: 0.0000e+00\n",
      "Epoch 43/50\n",
      "43842/43842 [==============================] - 2s 49us/step - loss: 0.0083 - accuracy: 4.5618e-05 - val_loss: 0.0068 - val_accuracy: 0.0000e+00\n",
      "Epoch 44/50\n",
      "43842/43842 [==============================] - 2s 50us/step - loss: 0.0082 - accuracy: 4.5618e-05 - val_loss: 0.0072 - val_accuracy: 0.0000e+00\n",
      "Epoch 45/50\n",
      "43842/43842 [==============================] - 2s 50us/step - loss: 0.0083 - accuracy: 4.5618e-05 - val_loss: 0.0071 - val_accuracy: 0.0000e+00\n",
      "Epoch 46/50\n",
      "43842/43842 [==============================] - 2s 50us/step - loss: 0.0083 - accuracy: 4.5618e-05 - val_loss: 0.0068 - val_accuracy: 0.0000e+00\n",
      "Epoch 47/50\n",
      "43842/43842 [==============================] - 2s 49us/step - loss: 0.0082 - accuracy: 4.5618e-05 - val_loss: 0.0068 - val_accuracy: 0.0000e+00\n",
      "Epoch 48/50\n",
      "43842/43842 [==============================] - 2s 50us/step - loss: 0.0083 - accuracy: 4.5618e-05 - val_loss: 0.0067 - val_accuracy: 0.0000e+00\n",
      "Epoch 49/50\n",
      "43842/43842 [==============================] - 2s 50us/step - loss: 0.0082 - accuracy: 4.5618e-05 - val_loss: 0.0068 - val_accuracy: 0.0000e+00\n",
      "Epoch 50/50\n",
      "43842/43842 [==============================] - 2s 50us/step - loss: 0.0082 - accuracy: 4.5618e-05 - val_loss: 0.0067 - val_accuracy: 0.0000e+00\n"
     ]
    }
   ],
   "source": [
    "hist=model.fit(x_train, y_train, validation_data=(x_test, y_test), batch_size=512, epochs=50)"
   ]
  },
  {
   "cell_type": "code",
   "execution_count": 105,
   "metadata": {},
   "outputs": [],
   "source": [
    "#훈련된 모델로 예측한 예측값 pred\n",
    "pred = model.predict(x_test)\n",
    "data_standadized_np = (pred - mean(pred,)) / (pred)"
   ]
  },
  {
   "cell_type": "code",
   "execution_count": 106,
   "metadata": {},
   "outputs": [
    {
     "data": {
      "image/png": "[encoded data removed]",
      "text/plain": [
       "<Figure size 432x288 with 1 Axes>"
      ]
     },
     "metadata": {},
     "output_type": "display_data"
    }
   ],
   "source": [
    "fig = plt.figure(facecolor='white')\n",
    "ax = fig.add_subplot(111)\n",
    "ax.plot(y_test*datanew['hum_in_loc1'].max(), label='True')\n",
    "ax.plot(pred*datanew['hum_in_loc1'].max(), label='Prediction')\n",
    "ax.legend()\n",
    "plt.xlim(2000,3000)\n",
    "plt.show()"
   ]
  },
  {
   "cell_type": "code",
   "execution_count": 107,
   "metadata": {},
   "outputs": [
    {
     "data": {
      "image/png": "[encoded data removed]",
      "text/plain": [
       "<Figure size 432x288 with 2 Axes>"
      ]
     },
     "metadata": {
      "needs_background": "light"
     },
     "output_type": "display_data"
    }
   ],
   "source": [
    "# step7. 모델학습 시각화\n",
    "fig, loss_ax = plt.subplots()\n",
    "acc_ax = loss_ax.twinx()\n",
    "\n",
    "loss_ax.plot(hist.history['loss'],'y',label='훈련 손실율')\n",
    "acc_ax.plot(hist.history['accuracy'],'b',label='훈련 정확도')\n",
    "\n",
    "loss_ax.set_xlabel(\"학습단계\")\n",
    "loss_ax.set_ylabel(\"손실율\")\n",
    "acc_ax.set_ylabel(\"정확도\")\n",
    "\n",
    "loss_ax.legend(loc='upper left')\n",
    "acc_ax.legend(loc='lower left')\n",
    "plt.xlim(0,20)\n",
    "\n",
    "plt.show()"
   ]
  },
  {
   "cell_type": "code",
   "execution_count": null,
   "metadata": {},
   "outputs": [],
   "source": []
  },
  {
   "cell_type": "code",
   "execution_count": null,
   "metadata": {},
   "outputs": [],
   "source": []
  },
  {
   "cell_type": "code",
   "execution_count": null,
   "metadata": {},
   "outputs": [],
   "source": []
  },
  {
   "cell_type": "code",
   "execution_count": null,
   "metadata": {},
   "outputs": [],
   "source": []
  }
 ],
 "metadata": {
  "kernelspec": {
   "display_name": "Python 3",
   "language": "python",
   "name": "python3"
  },
  "language_info": {
   "codemirror_mode": {
    "name": "ipython",
    "version": 3
   },
   "file_extension": ".py",
   "mimetype": "text/x-python",
   "name": "python",
   "nbconvert_exporter": "python",
   "pygments_lexer": "ipython3",
   "version": "3.6.10"
  }
 },
 "nbformat": 4,
 "nbformat_minor": 4
}
