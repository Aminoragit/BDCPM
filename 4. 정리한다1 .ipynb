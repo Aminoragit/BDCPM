{
 "cells": [
  {
   "cell_type": "code",
   "execution_count": null,
   "metadata": {},
   "outputs": [],
   "source": [
    "# plant1,2의 모든 데이터는 `동일한 시간`에 측정된 자료이다,\n",
    "# 즉, 24시간, 48시간뒤의 결로 유무에 대한 데이터는 모든 측정이 완료된 이후 정답지의 시간 이전 24시간의 기상 온도, 기상습도를\n",
    "# 토대로 결로 여부를 측정해야 하는 것이다!\n",
    "\n",
    "# 방법1 처음부터 기상 온도와 습도를 기준으로 결로 여부를 예측\n",
    "# 방법2 기상 온도 습도를 토대로 공장내 온도와 공장내 습도를 예측후 예측한 값으로 결로 유무를 예측(2중 예측)\n",
    "# 방법3 기상온도, 기상 습도 뿐만 아니라 여러 다른 요소들도 포함( 데이콘 온도 습도 예측 모델을 참조 )\n",
    "# 풍속 풍향은 결로에 영향X, 우천시(습도 상승시)결로 발생 가능성 커짐\n",
    "# 방법4 단순히 공장내 온도와 습도만으로 결로 현상 예측하기\n",
    "\n",
    "\n",
    "# 현재는 방법4를 통해 결로 현상 여부의 확률을 측정 중이다(-> 시간이 오래 걸리니 비교군으로 결로 발생 X를 500개, 결로발생 O인 값을 나머지 전부 측정해서 해당 확률을 측정한다.)\n",
    "# -> 51000건을 예측하는데 7시간 걸림\n"
   ]
  },
  {
   "cell_type": "code",
   "execution_count": 1,
   "metadata": {},
   "outputs": [
    {
     "name": "stderr",
     "output_type": "stream",
     "text": [
      "Using TensorFlow backend.\n"
     ]
    }
   ],
   "source": [
    "#기상습도, 기상습도, 공장내 습도, 공장내 온도에서 iloc[2055:2060] 부분을 삭제하라\n",
    "import pandas as pd\n",
    "from numpy import mean\n",
    "from scipy import stats #scipy란 과학기술 통계분석함수 모음이다.\n",
    "import numpy as np\n",
    "import warnings\n",
    "warnings.filterwarnings('ignore')\n",
    "%matplotlib inline\n",
    "import matplotlib.pyplot as plt\n",
    "plt.rcParams['font.family'] = 'NanumGothicCoding'\n",
    "plt.rcParams['axes.unicode_minus'] = False\n",
    "import mglearn \n",
    "import missingno as msno\n",
    "import seaborn as sns\n",
    "from keras.optimizers import RMSprop\n",
    "from keras.models import Sequential,load_model\n",
    "from keras.layers import Dense, Activation,LSTM,Dropout\n",
    "from keras import layers\n",
    "from keras.optimizers import RMSprop\n",
    "from IPython.display import SVG\n",
    "from keras.utils.vis_utils import model_to_dot\n",
    "\n",
    "import keras\n",
    "from mpl_toolkits.mplot3d import Axes3D\n",
    "from keras import models\n",
    "from keras.utils import np_utils\n",
    "from numpy import argmax"
   ]
  },
  {
   "cell_type": "code",
   "execution_count": 198,
   "metadata": {},
   "outputs": [],
   "source": [
    "weather_df=pd.read_csv('C:/Anaconda3/python/csvdata/hyundae/gogo/weather_df.csv')                       \n",
    "plant1_train=pd.read_csv('C:/Anaconda3/python/csvdata/hyundae/plant1_traincp.csv')\n"
   ]
  },
  {
   "cell_type": "code",
   "execution_count": 199,
   "metadata": {},
   "outputs": [],
   "source": [
    "weather_df=weather_df.iloc[0:,1:]\n",
    "plant1_train=plant1_train.iloc[0:,1:]\n"
   ]
  },
  {
   "cell_type": "code",
   "execution_count": 200,
   "metadata": {},
   "outputs": [
    {
     "data": {
      "text/html": [
       "<div>\n",
       "<style scoped>\n",
       "    .dataframe tbody tr th:only-of-type {\n",
       "        vertical-align: middle;\n",
       "    }\n",
       "\n",
       "    .dataframe tbody tr th {\n",
       "        vertical-align: top;\n",
       "    }\n",
       "\n",
       "    .dataframe thead th {\n",
       "        text-align: right;\n",
       "    }\n",
       "</style>\n",
       "<table border=\"1\" class=\"dataframe\">\n",
       "  <thead>\n",
       "    <tr style=\"text-align: right;\">\n",
       "      <th></th>\n",
       "      <th>일시</th>\n",
       "      <th>기온(°C)</th>\n",
       "      <th>습도(%)</th>\n",
       "    </tr>\n",
       "  </thead>\n",
       "  <tbody>\n",
       "    <tr>\n",
       "      <th>0</th>\n",
       "      <td>2016-01-01 0:01</td>\n",
       "      <td>-0.3</td>\n",
       "      <td>87.5</td>\n",
       "    </tr>\n",
       "    <tr>\n",
       "      <th>1</th>\n",
       "      <td>2016-01-01 0:02</td>\n",
       "      <td>-0.3</td>\n",
       "      <td>87.5</td>\n",
       "    </tr>\n",
       "    <tr>\n",
       "      <th>2</th>\n",
       "      <td>2016-01-01 0:03</td>\n",
       "      <td>-0.3</td>\n",
       "      <td>87.6</td>\n",
       "    </tr>\n",
       "    <tr>\n",
       "      <th>3</th>\n",
       "      <td>2016-01-01 0:04</td>\n",
       "      <td>-0.4</td>\n",
       "      <td>87.6</td>\n",
       "    </tr>\n",
       "    <tr>\n",
       "      <th>4</th>\n",
       "      <td>2016-01-01 0:05</td>\n",
       "      <td>-0.4</td>\n",
       "      <td>87.5</td>\n",
       "    </tr>\n",
       "    <tr>\n",
       "      <th>...</th>\n",
       "      <td>...</td>\n",
       "      <td>...</td>\n",
       "      <td>...</td>\n",
       "    </tr>\n",
       "    <tr>\n",
       "      <th>2090471</th>\n",
       "      <td>2019-12-31 23:56</td>\n",
       "      <td>-6.3</td>\n",
       "      <td>77.8</td>\n",
       "    </tr>\n",
       "    <tr>\n",
       "      <th>2090472</th>\n",
       "      <td>2019-12-31 23:57</td>\n",
       "      <td>-6.3</td>\n",
       "      <td>77.9</td>\n",
       "    </tr>\n",
       "    <tr>\n",
       "      <th>2090473</th>\n",
       "      <td>2019-12-31 23:58</td>\n",
       "      <td>-6.3</td>\n",
       "      <td>77.7</td>\n",
       "    </tr>\n",
       "    <tr>\n",
       "      <th>2090474</th>\n",
       "      <td>2019-12-31 23:59</td>\n",
       "      <td>-6.4</td>\n",
       "      <td>78.0</td>\n",
       "    </tr>\n",
       "    <tr>\n",
       "      <th>2090475</th>\n",
       "      <td>2020-01-01 0:00</td>\n",
       "      <td>-6.4</td>\n",
       "      <td>77.8</td>\n",
       "    </tr>\n",
       "  </tbody>\n",
       "</table>\n",
       "<p>2090476 rows × 3 columns</p>\n",
       "</div>"
      ],
      "text/plain": [
       "                       일시  기온(°C)  습도(%)\n",
       "0         2016-01-01 0:01    -0.3   87.5\n",
       "1         2016-01-01 0:02    -0.3   87.5\n",
       "2         2016-01-01 0:03    -0.3   87.6\n",
       "3         2016-01-01 0:04    -0.4   87.6\n",
       "4         2016-01-01 0:05    -0.4   87.5\n",
       "...                   ...     ...    ...\n",
       "2090471  2019-12-31 23:56    -6.3   77.8\n",
       "2090472  2019-12-31 23:57    -6.3   77.9\n",
       "2090473  2019-12-31 23:58    -6.3   77.7\n",
       "2090474  2019-12-31 23:59    -6.4   78.0\n",
       "2090475   2020-01-01 0:00    -6.4   77.8\n",
       "\n",
       "[2090476 rows x 3 columns]"
      ]
     },
     "execution_count": 200,
     "metadata": {},
     "output_type": "execute_result"
    }
   ],
   "source": [
    "weather_df"
   ]
  },
  {
   "cell_type": "code",
   "execution_count": 201,
   "metadata": {},
   "outputs": [],
   "source": [
    "plant1_train.columns=plant1_train.columns.str.replace('plant1_train.','')"
   ]
  },
  {
   "cell_type": "code",
   "execution_count": 202,
   "metadata": {},
   "outputs": [],
   "source": [
    "plant1_train['mea_ddhr'] = pd.to_datetime(plant1_train['mea_ddhr'], format='%Y-%m-%d %H:%M:%S', errors='raise')\n",
    "\n",
    "#마찬가지로 '일시'도 datetime으로 변환\n",
    "weather_df['일시'] = pd.to_datetime(weather_df['일시'], format='%Y-%m-%d %H:%M:%S', errors='raise')"
   ]
  },
  {
   "cell_type": "code",
   "execution_count": 203,
   "metadata": {},
   "outputs": [],
   "source": [
    "plant1_train=plant1_train.rename(columns={'mea_ddhr':'일시'})"
   ]
  },
  {
   "cell_type": "code",
   "execution_count": 204,
   "metadata": {},
   "outputs": [
    {
     "data": {
      "text/plain": [
       "(57854, 15)"
      ]
     },
     "execution_count": 204,
     "metadata": {},
     "output_type": "execute_result"
    }
   ],
   "source": [
    "#결측치를 제거한다.\n",
    "plant1_train.isna().sum()\n",
    "plant1_train=plant1_train.dropna(axis=0)\n",
    "plant1_train.shape"
   ]
  },
  {
   "cell_type": "code",
   "execution_count": 205,
   "metadata": {},
   "outputs": [
    {
     "data": {
      "text/html": [
       "<div>\n",
       "<style scoped>\n",
       "    .dataframe tbody tr th:only-of-type {\n",
       "        vertical-align: middle;\n",
       "    }\n",
       "\n",
       "    .dataframe tbody tr th {\n",
       "        vertical-align: top;\n",
       "    }\n",
       "\n",
       "    .dataframe thead th {\n",
       "        text-align: right;\n",
       "    }\n",
       "</style>\n",
       "<table border=\"1\" class=\"dataframe\">\n",
       "  <thead>\n",
       "    <tr style=\"text-align: right;\">\n",
       "      <th></th>\n",
       "      <th>일시</th>\n",
       "      <th>기온(°C)</th>\n",
       "      <th>습도(%)</th>\n",
       "    </tr>\n",
       "  </thead>\n",
       "  <tbody>\n",
       "    <tr>\n",
       "      <th>0</th>\n",
       "      <td>2016-01-01 00:01:00</td>\n",
       "      <td>-0.3</td>\n",
       "      <td>87.5</td>\n",
       "    </tr>\n",
       "    <tr>\n",
       "      <th>1</th>\n",
       "      <td>2016-01-01 00:02:00</td>\n",
       "      <td>-0.3</td>\n",
       "      <td>87.5</td>\n",
       "    </tr>\n",
       "    <tr>\n",
       "      <th>2</th>\n",
       "      <td>2016-01-01 00:03:00</td>\n",
       "      <td>-0.3</td>\n",
       "      <td>87.6</td>\n",
       "    </tr>\n",
       "    <tr>\n",
       "      <th>3</th>\n",
       "      <td>2016-01-01 00:04:00</td>\n",
       "      <td>-0.4</td>\n",
       "      <td>87.6</td>\n",
       "    </tr>\n",
       "    <tr>\n",
       "      <th>4</th>\n",
       "      <td>2016-01-01 00:05:00</td>\n",
       "      <td>-0.4</td>\n",
       "      <td>87.5</td>\n",
       "    </tr>\n",
       "    <tr>\n",
       "      <th>...</th>\n",
       "      <td>...</td>\n",
       "      <td>...</td>\n",
       "      <td>...</td>\n",
       "    </tr>\n",
       "    <tr>\n",
       "      <th>2090471</th>\n",
       "      <td>2019-12-31 23:56:00</td>\n",
       "      <td>-6.3</td>\n",
       "      <td>77.8</td>\n",
       "    </tr>\n",
       "    <tr>\n",
       "      <th>2090472</th>\n",
       "      <td>2019-12-31 23:57:00</td>\n",
       "      <td>-6.3</td>\n",
       "      <td>77.9</td>\n",
       "    </tr>\n",
       "    <tr>\n",
       "      <th>2090473</th>\n",
       "      <td>2019-12-31 23:58:00</td>\n",
       "      <td>-6.3</td>\n",
       "      <td>77.7</td>\n",
       "    </tr>\n",
       "    <tr>\n",
       "      <th>2090474</th>\n",
       "      <td>2019-12-31 23:59:00</td>\n",
       "      <td>-6.4</td>\n",
       "      <td>78.0</td>\n",
       "    </tr>\n",
       "    <tr>\n",
       "      <th>2090475</th>\n",
       "      <td>2020-01-01 00:00:00</td>\n",
       "      <td>-6.4</td>\n",
       "      <td>77.8</td>\n",
       "    </tr>\n",
       "  </tbody>\n",
       "</table>\n",
       "<p>2087809 rows × 3 columns</p>\n",
       "</div>"
      ],
      "text/plain": [
       "                         일시  기온(°C)  습도(%)\n",
       "0       2016-01-01 00:01:00    -0.3   87.5\n",
       "1       2016-01-01 00:02:00    -0.3   87.5\n",
       "2       2016-01-01 00:03:00    -0.3   87.6\n",
       "3       2016-01-01 00:04:00    -0.4   87.6\n",
       "4       2016-01-01 00:05:00    -0.4   87.5\n",
       "...                     ...     ...    ...\n",
       "2090471 2019-12-31 23:56:00    -6.3   77.8\n",
       "2090472 2019-12-31 23:57:00    -6.3   77.9\n",
       "2090473 2019-12-31 23:58:00    -6.3   77.7\n",
       "2090474 2019-12-31 23:59:00    -6.4   78.0\n",
       "2090475 2020-01-01 00:00:00    -6.4   77.8\n",
       "\n",
       "[2087809 rows x 3 columns]"
      ]
     },
     "execution_count": 205,
     "metadata": {},
     "output_type": "execute_result"
    }
   ],
   "source": [
    "weather_df=weather_df.dropna(axis=0)\n",
    "weather_df"
   ]
  },
  {
   "cell_type": "code",
   "execution_count": 206,
   "metadata": {},
   "outputs": [],
   "source": [
    "df_plant1=pd.merge(weather_df, plant1_train, on='일시')"
   ]
  },
  {
   "cell_type": "code",
   "execution_count": 207,
   "metadata": {},
   "outputs": [
    {
     "name": "stdout",
     "output_type": "stream",
     "text": [
      "<class 'pandas.core.frame.DataFrame'>\n",
      "Int64Index: 57655 entries, 0 to 57654\n",
      "Data columns (total 17 columns):\n",
      " #   Column         Non-Null Count  Dtype         \n",
      "---  ------         --------------  -----         \n",
      " 0   일시             57655 non-null  datetime64[ns]\n",
      " 1   기온(°C)         57655 non-null  float64       \n",
      " 2   습도(%)          57655 non-null  float64       \n",
      " 3   tem_in_loc1    57655 non-null  float64       \n",
      " 4   hum_in_loc1    57655 non-null  float64       \n",
      " 5   tem_coil_loc1  57655 non-null  float64       \n",
      " 6   tem_in_loc2    57655 non-null  float64       \n",
      " 7   hum_in_loc2    57655 non-null  float64       \n",
      " 8   tem_coil_loc2  57655 non-null  float64       \n",
      " 9   tem_in_loc3    57655 non-null  float64       \n",
      " 10  hum_in_loc3    57655 non-null  float64       \n",
      " 11  tem_coil_loc3  57655 non-null  float64       \n",
      " 12  tem_out_loc1   57655 non-null  float64       \n",
      " 13  hum_out_loc1   57655 non-null  float64       \n",
      " 14  cond_loc1      57655 non-null  float64       \n",
      " 15  cond_loc2      57655 non-null  float64       \n",
      " 16  cond_loc3      57655 non-null  float64       \n",
      "dtypes: datetime64[ns](1), float64(16)\n",
      "memory usage: 7.9 MB\n"
     ]
    }
   ],
   "source": [
    "df_plant1=df_plant1.dropna(axis=0)\n",
    "df_plant1.isna().sum()\n",
    "#결측치 제거 및 '일시'와 'mea_ddhr'이 동일한 값들만 남았다.\n",
    "df_plant1.info()"
   ]
  },
  {
   "cell_type": "code",
   "execution_count": 210,
   "metadata": {},
   "outputs": [],
   "source": [
    "plant1_tem_hum=df_plant1[['일시','기온(°C)','습도(%)','tem_in_loc1','hum_in_loc1','tem_coil_loc1','cond_loc1']]\n",
    "\n",
    "plant1_tem_hum.index=plant1_tem_hum['일시']"
   ]
  },
  {
   "cell_type": "code",
   "execution_count": 209,
   "metadata": {},
   "outputs": [],
   "source": []
  },
  {
   "cell_type": "code",
   "execution_count": null,
   "metadata": {},
   "outputs": [],
   "source": []
  },
  {
   "cell_type": "code",
   "execution_count": null,
   "metadata": {},
   "outputs": [],
   "source": []
  },
  {
   "cell_type": "code",
   "execution_count": null,
   "metadata": {},
   "outputs": [],
   "source": []
  },
  {
   "cell_type": "code",
   "execution_count": null,
   "metadata": {},
   "outputs": [],
   "source": []
  },
  {
   "cell_type": "code",
   "execution_count": null,
   "metadata": {},
   "outputs": [],
   "source": []
  },
  {
   "cell_type": "code",
   "execution_count": null,
   "metadata": {},
   "outputs": [],
   "source": []
  }
 ],
 "metadata": {
  "kernelspec": {
   "display_name": "Python 3",
   "language": "python",
   "name": "python3"
  },
  "language_info": {
   "codemirror_mode": {
    "name": "ipython",
    "version": 3
   },
   "file_extension": ".py",
   "mimetype": "text/x-python",
   "name": "python",
   "nbconvert_exporter": "python",
   "pygments_lexer": "ipython3",
   "version": "3.6.10"
  }
 },
 "nbformat": 4,
 "nbformat_minor": 4
}
